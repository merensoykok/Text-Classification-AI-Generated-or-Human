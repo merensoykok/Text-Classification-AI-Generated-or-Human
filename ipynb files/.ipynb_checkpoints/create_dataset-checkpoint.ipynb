{
 "cells": [
  {
   "cell_type": "code",
   "execution_count": 2,
   "id": "2d7f939b",
   "metadata": {},
   "outputs": [],
   "source": [
    "import numpy as np\n",
    "import pandas as pd\n",
    "import matplotlib.pyplot as plt\n",
    "import os"
   ]
  },
  {
   "cell_type": "code",
   "execution_count": 4,
   "id": "579920a5",
   "metadata": {},
   "outputs": [
    {
     "name": "stdout",
     "output_type": "stream",
     "text": [
      "C:\\Users\\Eren\\Desktop\\notlar\\lesson notes\\dönem 6\\AIN423 - Data Intensive Applications\\Data Science Course Project\\ipynb files\n"
     ]
    }
   ],
   "source": []
  },
  {
   "cell_type": "code",
   "execution_count": 6,
   "id": "8f9f994c",
   "metadata": {},
   "outputs": [
    {
     "name": "stdout",
     "output_type": "stream",
     "text": [
      "['llm-detect-ai-generated-text.zip', 'Training_Essay_Data.csv', 'Training_Essay_Data.csv.zip', 'train_essays.csv']\n"
     ]
    }
   ],
   "source": [
    "print(os.listdir(\"../dataset\"))"
   ]
  },
  {
   "cell_type": "code",
   "execution_count": null,
   "id": "d8e6f99f",
   "metadata": {},
   "outputs": [],
   "source": [
    "dataset1_path = \"../dataset/Training_Essay_Data.csv\"\n",
    "dataset2_path = \"../dataset/train_essays.csv\""
   ]
  }
 ],
 "metadata": {
  "kernelspec": {
   "display_name": "Python 3 (ipykernel)",
   "language": "python",
   "name": "python3"
  },
  "language_info": {
   "codemirror_mode": {
    "name": "ipython",
    "version": 3
   },
   "file_extension": ".py",
   "mimetype": "text/x-python",
   "name": "python",
   "nbconvert_exporter": "python",
   "pygments_lexer": "ipython3",
   "version": "3.10.9"
  }
 },
 "nbformat": 4,
 "nbformat_minor": 5
}
